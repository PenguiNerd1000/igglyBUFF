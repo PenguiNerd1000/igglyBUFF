{
 "cells": [
  {
   "cell_type": "code",
   "execution_count": 27,
   "metadata": {},
   "outputs": [
    {
     "name": "stdout",
     "output_type": "stream",
     "text": [
      "Requirement already satisfied: numpy in c:\\users\\jovan\\appdata\\local\\programs\\python\\python311\\lib\\site-packages (1.25.1)\n",
      "Collecting python-chess\n",
      "  Downloading python_chess-1.999-py3-none-any.whl (1.4 kB)\n",
      "Requirement already satisfied: chess<2,>=1 in c:\\users\\jovan\\appdata\\local\\programs\\python\\python311\\lib\\site-packages (from python-chess) (1.9.4)\n",
      "Installing collected packages: python-chess\n",
      "Successfully installed python-chess-1.999\n",
      "Requirement already satisfied: pygame in c:\\users\\jovan\\appdata\\local\\programs\\python\\python311\\lib\\site-packages (2.5.0)\n"
     ]
    },
    {
     "ename": "ModuleNotFoundError",
     "evalue": "No module named 'chess.engine'; 'chess' is not a package",
     "output_type": "error",
     "traceback": [
      "\u001b[1;31m---------------------------------------------------------------------------\u001b[0m",
      "\u001b[1;31mModuleNotFoundError\u001b[0m                       Traceback (most recent call last)",
      "Cell \u001b[1;32mIn[27], line 7\u001b[0m\n\u001b[0;32m      4\u001b[0m get_ipython()\u001b[39m.\u001b[39msystem(\u001b[39m'\u001b[39m\u001b[39m{sys.executable}\u001b[39;00m\u001b[39m -m pip install pygame\u001b[39m\u001b[39m'\u001b[39m)\n\u001b[0;32m      6\u001b[0m \u001b[39mimport\u001b[39;00m \u001b[39mchess\u001b[39;00m\n\u001b[1;32m----> 7\u001b[0m \u001b[39mimport\u001b[39;00m \u001b[39mchess\u001b[39;00m\u001b[39m.\u001b[39;00m\u001b[39mengine\u001b[39;00m\n\u001b[0;32m      8\u001b[0m \u001b[39mimport\u001b[39;00m \u001b[39mrandom\u001b[39;00m\n\u001b[0;32m      9\u001b[0m \u001b[39mimport\u001b[39;00m \u001b[39mnumpy\u001b[39;00m\n",
      "\u001b[1;31mModuleNotFoundError\u001b[0m: No module named 'chess.engine'; 'chess' is not a package"
     ]
    }
   ],
   "source": [
    "import sys\n",
    "!{sys.executable} -m pip install numpy\n",
    "!{sys.executable} -m pip install python-chess\n",
    "!{sys.executable} -m pip install pygame\n",
    "\n",
    "import chess\n",
    "import chess.engine\n",
    "import random\n",
    "import numpy\n",
    "\n",
    "engine = chess.engine.SimpleEngine.popen_uci('stockfish/13/bin/stockfish')\n",
    "\n"
   ]
  },
  {
   "cell_type": "code",
   "execution_count": null,
   "metadata": {},
   "outputs": [],
   "source": [
    "def random_board(max_depth=200):\n",
    "  board = chess.Board()\n",
    "  depth = random.randrange(0, max_depth)\n",
    "  for _ in range(depth):\n",
    "    all_moves = list(board.legal_moves)\n",
    "    random_move = random.choice(all_moves)\n",
    "    board.push(random_move)\n",
    "    if board.is_game_over():\n",
    "      break\n",
    "\n",
    "  return board\n"
   ]
  },
  {
   "cell_type": "code",
   "execution_count": null,
   "metadata": {},
   "outputs": [],
   "source": [
    "def stockfish(board, depth):\n",
    "  with chess.engine.SimpleEngine.popen_uci('stockfish/13/bin/stockfish') as sf:\n",
    "    result = sf.analyse(board, chess.engine.Limit(depth=depth))\n",
    "    score = result['score'].white().score()\n",
    "    return score"
   ]
  },
  {
   "cell_type": "code",
   "execution_count": null,
   "metadata": {},
   "outputs": [
    {
     "ename": "NameError",
     "evalue": "name 'chess' is not defined",
     "output_type": "error",
     "traceback": [
      "\u001b[1;31m---------------------------------------------------------------------------\u001b[0m",
      "\u001b[1;31mNameError\u001b[0m                                 Traceback (most recent call last)",
      "Cell \u001b[1;32mIn[17], line 1\u001b[0m\n\u001b[1;32m----> 1\u001b[0m board \u001b[39m=\u001b[39m random_board()\n\u001b[0;32m      2\u001b[0m board\n",
      "Cell \u001b[1;32mIn[15], line 2\u001b[0m, in \u001b[0;36mrandom_board\u001b[1;34m(max_depth)\u001b[0m\n\u001b[0;32m      1\u001b[0m \u001b[39mdef\u001b[39;00m \u001b[39mrandom_board\u001b[39m(max_depth\u001b[39m=\u001b[39m\u001b[39m200\u001b[39m):\n\u001b[1;32m----> 2\u001b[0m   board \u001b[39m=\u001b[39m chess\u001b[39m.\u001b[39mBoard()\n\u001b[0;32m      3\u001b[0m   depth \u001b[39m=\u001b[39m random\u001b[39m.\u001b[39mrandrange(\u001b[39m0\u001b[39m, max_depth)\n\u001b[0;32m      4\u001b[0m   \u001b[39mfor\u001b[39;00m _ \u001b[39min\u001b[39;00m \u001b[39mrange\u001b[39m(depth):\n",
      "\u001b[1;31mNameError\u001b[0m: name 'chess' is not defined"
     ]
    }
   ],
   "source": [
    "board = random_board()\n",
    "board"
   ]
  }
 ],
 "metadata": {
  "kernelspec": {
   "display_name": "Python 3",
   "language": "python",
   "name": "python3"
  },
  "language_info": {
   "codemirror_mode": {
    "name": "ipython",
    "version": 3
   },
   "file_extension": ".py",
   "mimetype": "text/x-python",
   "name": "python",
   "nbconvert_exporter": "python",
   "pygments_lexer": "ipython3",
   "version": "3.11.0"
  },
  "orig_nbformat": 4
 },
 "nbformat": 4,
 "nbformat_minor": 2
}
