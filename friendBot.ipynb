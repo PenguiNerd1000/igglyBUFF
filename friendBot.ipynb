{
  "cells": [
    {
      "cell_type": "code",
      "execution_count": null,
      "metadata": {
        "colab": {
          "base_uri": "https://localhost:8080/"
        },
        "id": "Aea7iF6dK7AJ",
        "outputId": "7756f4fb-e51e-45b6-d44e-b1d4a10f847d"
      },
      "outputs": [
        {
          "output_type": "stream",
          "name": "stdout",
          "text": [
            "Downloading...\n",
            "From (original): https://drive.google.com/uc?id=1WsLkQKdcj2yZblcLbo9o5zVWMkq7G8A8\n",
            "From (redirected): https://drive.google.com/uc?id=1WsLkQKdcj2yZblcLbo9o5zVWMkq7G8A8&confirm=t&uuid=96c218d3-c1f4-4e23-8810-a7bbcf0bd828\n",
            "To: /content/chessData.csv.zip\n",
            "100% 151M/151M [00:02<00:00, 54.1MB/s]\n"
          ]
        }
      ],
      "source": [
        "!gdown https://drive.google.com/uc?id=1WsLkQKdcj2yZblcLbo9o5zVWMkq7G8A8"
      ]
    },
    {
      "cell_type": "code",
      "execution_count": null,
      "metadata": {
        "id": "KWfAmw4QLw5d",
        "colab": {
          "base_uri": "https://localhost:8080/"
        },
        "outputId": "8512eb0a-cdac-4eb9-dad7-c69d3ae0b6ed"
      },
      "outputs": [
        {
          "output_type": "stream",
          "name": "stdout",
          "text": [
            "replace chessData.csv? [y]es, [n]o, [A]ll, [N]one, [r]ename: "
          ]
        }
      ],
      "source": [
        "!unzip -q chessData.csv.zip"
      ]
    },
    {
      "cell_type": "code",
      "execution_count": null,
      "metadata": {
        "id": "CM6kd7XVmXSm"
      },
      "outputs": [],
      "source": [
        "import numpy as np\n",
        "import pandas as pd\n",
        "import tensorflow as tf\n",
        "import matplotlib.pyplot as plt"
      ]
    },
    {
      "cell_type": "code",
      "execution_count": null,
      "metadata": {
        "id": "wRhq1_PqN6ir"
      },
      "outputs": [],
      "source": [
        "my_data_df = pd.read_csv('chessData.csv')"
      ]
    },
    {
      "cell_type": "code",
      "execution_count": null,
      "metadata": {
        "id": "4hDy3h3wCZg6"
      },
      "outputs": [],
      "source": [
        "# Remove checkmate\n",
        "my_data_df = my_data_df[~my_data_df.iloc[:, -1].astype(str).str.startswith('#')]"
      ]
    },
    {
      "cell_type": "code",
      "execution_count": null,
      "metadata": {
        "colab": {
          "base_uri": "https://localhost:8080/"
        },
        "collapsed": true,
        "id": "HmFJiVK2m3Yy",
        "outputId": "2e80de61-23e2-417b-b0ec-190b836728cd"
      },
      "outputs": [
        {
          "output_type": "stream",
          "name": "stdout",
          "text": [
            "r n b q k b n r\n",
            "p p p p p p p p\n",
            ". . . . . . . .\n",
            ". . . . . . . .\n",
            ". . . . . . . .\n",
            ". . . . . . . .\n",
            "P P P P P P P P\n",
            "R N B Q K B N R\n",
            "None\n",
            "r n b k q b n r\n",
            "p p p p p p p p\n",
            ". . . . . . . .\n",
            ". . . . . . . .\n",
            ". . . . . . . .\n",
            ". . . . . . . .\n",
            "P P P P P P P P\n",
            "R N B K Q B N R\n",
            "None\n",
            "[1 1 1 1 0 0 0 0 0 0 0 0 0 0 0 0 0 0 0 0 0 0 0 0 0 0 0 0 0 0 0 0 1 0 0 0 0\n",
            " 0 0 0 0 0 0 0 0 0 0 0 0 0 0 0 0 0 0 0 0 0 0 0 0 0 0 0 0 0 0 0]\n",
            "(68,)\n"
          ]
        }
      ],
      "source": [
        "def parse_board(fen_string):\n",
        "    piece_to_index = [{'P': 0, 'N': 1, 'B': 2, 'R': 3, 'Q': 4, 'K': 5, 'p': 6, 'n': 7, 'b': 8, 'r': 9, 'q': 10, 'k': 11},\n",
        "                      {'P': 6, 'N': 7, 'B': 8, 'R': 9, 'Q': 10, 'K': 11, 'p': 0, 'n': 1, 'b': 2, 'r': 3, 'q': 4, 'k': 5}]\n",
        "\n",
        "    # Create an empty numpy array with shape (8, 8, 12)\n",
        "    chessboard = np.zeros((8, 8, 12), dtype=int)\n",
        "\n",
        "    # Split the FEN string into its components\n",
        "    fen_parts = fen_string.split(' ')\n",
        "    board_part = fen_parts[0]\n",
        "\n",
        "    turn = 0 if fen_parts[1] == \"w\" else 1\n",
        "\n",
        "    # Convert the FEN board string to a numpy array\n",
        "    row = 0\n",
        "    col = 0\n",
        "    for char in board_part:\n",
        "        if char == '/':\n",
        "            row += 1\n",
        "            col = 0\n",
        "        elif char.isdigit():\n",
        "            col += int(char)\n",
        "        else:\n",
        "            piece_index = piece_to_index[turn][char]\n",
        "            chessboard[row if turn == 0 else 7 - row, col if turn == 0 else 7 - col, piece_index] = 1\n",
        "            col += 1\n",
        "\n",
        "    return chessboard\n",
        "\n",
        "def parse_misc_data(fen_string):\n",
        "    # Split the FEN string into its components\n",
        "    fen_parts = fen_string.split(' ')\n",
        "\n",
        "    # Normalize castling data\n",
        "    piece_to_index = {'K': 0, 'Q': 1, 'k': 2, 'q': 3}\n",
        "    castle_array = np.zeros(4, dtype=int)\n",
        "    for c in fen_parts[2]:\n",
        "        try:\n",
        "            castle_array[piece_to_index[c]] = 1\n",
        "        except KeyError:\n",
        "            pass\n",
        "\n",
        "    # Normalize en passant data\n",
        "    en_passent_array = np.zeros((8, 8), dtype=int)\n",
        "    if fen_parts[3] != \"-\":\n",
        "        row = int(fen_parts[3][1]) - 1\n",
        "        col = ord(fen_parts[3][0]) - ord('a')\n",
        "        en_passent_array[row, col] = 1\n",
        "\n",
        "    return np.concatenate([castle_array, np.ndarray.flatten(en_passent_array)])\n",
        "\n",
        "def matrix_to_chessboard(matrix: np.ndarray) -> None:\n",
        "    # Define channel to piece mappings\n",
        "    channel_to_piece = {\n",
        "        0: 'P', 1: 'N', 2: 'B', 3: 'R', 4: 'Q', 5: 'K',  # White pieces\n",
        "        6: 'p', 7: 'n', 8: 'b', 9: 'r', 10: 'q', 11: 'k'  # Black pieces\n",
        "    }\n",
        "\n",
        "    # Initialize an empty 8x8 board\n",
        "    board = [['.' for _ in range(8)] for _ in range(8)]\n",
        "\n",
        "    # Iterate over the matrix to reconstruct the board\n",
        "    for row in range(8):\n",
        "        for col in range(8):\n",
        "            for channel in range(12):\n",
        "                if matrix[row, col, channel] == 1:\n",
        "                    board[row][col] = channel_to_piece[channel]\n",
        "\n",
        "    # Print the board\n",
        "    for row in board:\n",
        "        print(' '.join(row))\n",
        "\n",
        "def parse_advantage(advantage_str):\n",
        "    return np.cbrt(int(advantage_str.lstrip('\\ufeff')) / 100)\n",
        "\n",
        "print(matrix_to_chessboard(parse_board('rnbqkbnr/pppppppp/8/8/8/8/PPPPPPPP/RNBQKBNR w KQkq - 0 1')))\n",
        "print(matrix_to_chessboard(parse_board('rnbqkbnr/pppppppp/8/8/8/8/PPPPPPPP/RNBQKBNR b KQkq - 0 1')))\n",
        "print(parse_misc_data('rnbqkbnr/pppppppp/8/8/8/8/PPPPPPPP/RNBQKBNR w KQkq e4 0 1'))\n",
        "print(parse_misc_data('rnbqkbnr/pppppppp/8/8/8/8/PPPPPPPP/RNBQKBNR w KQkq e4 0 1').shape)"
      ]
    },
    {
      "cell_type": "code",
      "execution_count": null,
      "metadata": {
        "id": "veDO2y3YSMj8"
      },
      "outputs": [],
      "source": [
        "class ChessDataGenerator(tf.keras.utils.Sequence):\n",
        "    def __init__(self, indices, batch_size=32, shuffle=True):\n",
        "        self.batch_size = batch_size\n",
        "        self.shuffle = shuffle\n",
        "        self.data = my_data_df\n",
        "        self.indices = indices\n",
        "        self.on_epoch_end()\n",
        "\n",
        "        # Fit the scaler on the evaluation data for the entire dataset\n",
        "        # self.data['Evaluation'] = self.scaler.fit_transform(self.data[['Evaluation']])\n",
        "\n",
        "    def __len__(self):\n",
        "        return int(np.floor(len(self.indices) / self.batch_size))\n",
        "\n",
        "    def __getitem__(self, index):\n",
        "        batch_indices = self.indices[index * self.batch_size:(index + 1) * self.batch_size]\n",
        "        batch_data = self.data.iloc[batch_indices]\n",
        "\n",
        "        X, y = self.__data_generation(batch_data)\n",
        "        return X, y\n",
        "\n",
        "    def on_epoch_end(self):\n",
        "        if self.shuffle:\n",
        "            np.random.shuffle(self.indices)\n",
        "\n",
        "    def __data_generation(self, batch_data):\n",
        "        X_board = np.array([parse_board(fen) for fen in batch_data['FEN']])\n",
        "        X_misc = np.array([parse_misc_data(fen) for fen in batch_data['FEN']])\n",
        "        y = np.array([parse_advantage(advantage) for advantage in batch_data['Evaluation']])\n",
        "        return [X_board, X_misc], y"
      ]
    },
    {
      "cell_type": "code",
      "execution_count": null,
      "metadata": {
        "colab": {
          "base_uri": "https://localhost:8080/"
        },
        "id": "-ZcuekDAJMDX",
        "outputId": "4014afb2-eb32-446d-ea6d-47910555dc9b"
      },
      "outputs": [
        {
          "output_type": "stream",
          "name": "stdout",
          "text": [
            "Model: \"model_1\"\n",
            "__________________________________________________________________________________________________\n",
            " Layer (type)                Output Shape                 Param #   Connected to                  \n",
            "==================================================================================================\n",
            " board (InputLayer)          [(None, 8, 8, 12)]           0         []                            \n",
            "                                                                                                  \n",
            " conv2d_3 (Conv2D)           (None, 6, 6, 32)             3488      ['board[0][0]']               \n",
            "                                                                                                  \n",
            " conv2d_4 (Conv2D)           (None, 4, 4, 64)             18496     ['conv2d_3[0][0]']            \n",
            "                                                                                                  \n",
            " misc (InputLayer)           [(None, 68)]                 0         []                            \n",
            "                                                                                                  \n",
            " conv2d_5 (Conv2D)           (None, 2, 2, 128)            73856     ['conv2d_4[0][0]']            \n",
            "                                                                                                  \n",
            " dense_6 (Dense)             (None, 128)                  8832      ['misc[0][0]']                \n",
            "                                                                                                  \n",
            " global_average_pooling2d_1  (None, 128)                  0         ['conv2d_5[0][0]']            \n",
            "  (GlobalAveragePooling2D)                                                                        \n",
            "                                                                                                  \n",
            " dense_7 (Dense)             (None, 64)                   8256      ['dense_6[0][0]']             \n",
            "                                                                                                  \n",
            " concatenate_1 (Concatenate  (None, 192)                  0         ['global_average_pooling2d_1[0\n",
            " )                                                                  ][0]',                        \n",
            "                                                                     'dense_7[0][0]']             \n",
            "                                                                                                  \n",
            " dense_8 (Dense)             (None, 256)                  49408     ['concatenate_1[0][0]']       \n",
            "                                                                                                  \n",
            " dense_9 (Dense)             (None, 128)                  32896     ['dense_8[0][0]']             \n",
            "                                                                                                  \n",
            " dense_10 (Dense)            (None, 64)                   8256      ['dense_9[0][0]']             \n",
            "                                                                                                  \n",
            " dense_11 (Dense)            (None, 1)                    65        ['dense_10[0][0]']            \n",
            "                                                                                                  \n",
            "==================================================================================================\n",
            "Total params: 203553 (795.13 KB)\n",
            "Trainable params: 203553 (795.13 KB)\n",
            "Non-trainable params: 0 (0.00 Byte)\n",
            "__________________________________________________________________________________________________\n"
          ]
        }
      ],
      "source": [
        "board_input_layer = tf.keras.layers.Input(shape=(8, 8, 12), name=\"board\")\n",
        "\n",
        "board_conv1 = tf.keras.layers.Conv2D(32, (3, 3), activation='relu', data_format='channels_last')(board_input_layer)\n",
        "board_conv2 = tf.keras.layers.Conv2D(64, (3, 3), activation='relu', data_format='channels_last')(board_conv1)\n",
        "board_conv3 = tf.keras.layers.Conv2D(128, (3, 3), activation='relu', data_format='channels_last')(board_conv2)\n",
        "\n",
        "board_flatten = tf.keras.layers.GlobalAveragePooling2D()(board_conv3)\n",
        "\n",
        "misc_input_layer = tf.keras.layers.Input(shape=(68,), name=\"misc\")\n",
        "\n",
        "misc_dense1 = tf.keras.layers.Dense(128, activation='relu')(misc_input_layer)\n",
        "misc_dense2 = tf.keras.layers.Dense(64, activation='relu')(misc_dense1)\n",
        "\n",
        "concat_layer = tf.keras.layers.Concatenate()([board_flatten, misc_dense2])\n",
        "\n",
        "hidden_layer1 = tf.keras.layers.Dense(256, activation='relu')(concat_layer)\n",
        "hidden_layer2 = tf.keras.layers.Dense(128, activation='relu')(hidden_layer1)\n",
        "hidden_layer3 = tf.keras.layers.Dense(64, activation='relu')(hidden_layer2)\n",
        "\n",
        "output_layer = tf.keras.layers.Dense(1, activation=tf.math.atan)(hidden_layer3)\n",
        "\n",
        "model = tf.keras.Model(inputs=[board_input_layer, misc_input_layer], outputs=output_layer)\n",
        "\n",
        "opt = tf.keras.optimizers.AdamW(learning_rate=0.01)\n",
        "\n",
        "def tan_mae(y_true, y_pred):\n",
        "    return tf.reduce_mean(tf.math.abs(100 * tf.math.tan(y_pred) - 100 * tf.math.tan(y_true)))\n",
        "\n",
        "def rmse(y_true, y_pred):\n",
        "    return tf.sqrt(tf.reduce_mean(tf.square(y_pred - y_true)))\n",
        "\n",
        "def mse(y_true, y_pred):\n",
        "    return tf.reduce_mean(tf.square(y_pred - y_true))\n",
        "\n",
        "model.compile(optimizer=opt, loss=mse, metrics=[tan_mae])\n",
        "\n",
        "model.summary()"
      ]
    },
    {
      "cell_type": "code",
      "execution_count": null,
      "metadata": {
        "id": "nWf91Jvwj0nF"
      },
      "outputs": [],
      "source": [
        "num_samples = len(my_data_df)\n",
        "\n",
        "# Define the validation and test split\n",
        "validation_split = 0.2\n",
        "test_split = 0.01\n",
        "num_test_samples = int(num_samples * test_split)\n",
        "num_val_samples = int(num_samples * validation_split)\n",
        "num_train_samples = num_samples - num_val_samples - num_test_samples\n",
        "\n",
        "# Generate indices and split them\n",
        "indices = np.arange(num_samples)\n",
        "np.random.shuffle(indices)\n",
        "train_indices = indices[:num_train_samples]\n",
        "val_indices = indices[num_train_samples:num_train_samples + num_val_samples]\n",
        "test_indices = indices[num_train_samples + num_val_samples:]"
      ]
    },
    {
      "cell_type": "code",
      "source": [
        "train_generator = ChessDataGenerator(indices=train_indices, batch_size=6400, shuffle=False)\n",
        "val_generator = ChessDataGenerator(indices=val_indices, batch_size=6400, shuffle=False)\n",
        "test_generator = ChessDataGenerator(indices=test_indices, batch_size=num_test_samples, shuffle=False)"
      ],
      "metadata": {
        "id": "2yuw5AqZM_6L"
      },
      "execution_count": null,
      "outputs": []
    },
    {
      "cell_type": "code",
      "execution_count": null,
      "metadata": {
        "colab": {
          "base_uri": "https://localhost:8080/"
        },
        "id": "98GwOfvbUPlr",
        "outputId": "b111b346-6f4a-4a0b-dd0f-6ff1783c4c38"
      },
      "outputs": [
        {
          "output_type": "stream",
          "name": "stdout",
          "text": [
            "Epoch 1/10\n",
            "1576/1576 [==============================] - 617s 389ms/step - loss: 1.5917 - tan_mae: 640.0687 - val_loss: 1.5900 - val_tan_mae: 639.6366\n",
            "Epoch 2/10\n",
            "1576/1576 [==============================] - 575s 365ms/step - loss: 1.5908 - tan_mae: 639.9949 - val_loss: 1.5901 - val_tan_mae: 639.6366\n",
            "Epoch 3/10\n",
            "1576/1576 [==============================] - 582s 369ms/step - loss: 1.5908 - tan_mae: 639.9953 - val_loss: 1.5903 - val_tan_mae: 639.6393\n",
            "Epoch 4/10\n",
            "1576/1576 [==============================] - 617s 392ms/step - loss: 1.5908 - tan_mae: 639.9937 - val_loss: 1.5900 - val_tan_mae: 639.6448\n",
            "Epoch 5/10\n",
            "1576/1576 [==============================] - 613s 389ms/step - loss: 1.5909 - tan_mae: 640.0035 - val_loss: 1.5902 - val_tan_mae: 639.6729\n",
            "Epoch 6/10\n",
            "1576/1576 [==============================] - 573s 364ms/step - loss: 1.5909 - tan_mae: 639.9982 - val_loss: 1.5900 - val_tan_mae: 639.6190\n",
            "Epoch 7/10\n",
            "1576/1576 [==============================] - 607s 385ms/step - loss: 1.5908 - tan_mae: 639.9921 - val_loss: 1.5899 - val_tan_mae: 639.6420\n",
            "Epoch 8/10\n",
            "1576/1576 [==============================] - 582s 369ms/step - loss: 1.5909 - tan_mae: 639.9896 - val_loss: 1.5901 - val_tan_mae: 639.6457\n",
            "Epoch 9/10\n",
            "1576/1576 [==============================] - 585s 372ms/step - loss: 1.5909 - tan_mae: 639.9894 - val_loss: 1.5900 - val_tan_mae: 639.6057\n",
            "Epoch 10/10\n",
            "1576/1576 [==============================] - 585s 371ms/step - loss: 1.5908 - tan_mae: 639.9912 - val_loss: 1.5899 - val_tan_mae: 639.6330\n"
          ]
        }
      ],
      "source": [
        "history = model.fit(\n",
        "    train_generator,\n",
        "    validation_data=val_generator,\n",
        "    epochs=10\n",
        ")"
      ]
    },
    {
      "cell_type": "code",
      "execution_count": null,
      "metadata": {
        "id": "6uIYh-z2VBIn",
        "colab": {
          "base_uri": "https://localhost:8080/"
        },
        "outputId": "4c4d7b2c-ad1a-4793-bbe2-23560138e7eb"
      },
      "outputs": [
        {
          "output_type": "display_data",
          "data": {
            "text/plain": [
              "<Figure size 1200x600 with 1 Axes>"
            ],
            "image/png": "[encoded data removed]"
          },
          "metadata": {}
        }
      ],
      "source": [
        "plt.figure(figsize=(12, 6))\n",
        "plt.plot(history.history['loss'], label='Training Loss')\n",
        "plt.plot(history.history['val_loss'], label='Validation Loss')\n",
        "plt.title('Model Loss')\n",
        "plt.xlabel('Epoch')\n",
        "plt.ylabel('Loss')\n",
        "plt.legend(loc='upper right')\n",
        "plt.show()"
      ]
    },
    {
      "cell_type": "code",
      "source": [
        "model.evaluate(test_generator)"
      ],
      "metadata": {
        "id": "wiS7Z2bLOTUY",
        "colab": {
          "base_uri": "https://localhost:8080/"
        },
        "outputId": "0a6e4933-20f8-4e43-ba5c-4de7cd99398d"
      },
      "execution_count": null,
      "outputs": [
        {
          "output_type": "stream",
          "name": "stdout",
          "text": [
            "1/1 [==============================] - 10s 10s/step - loss: 1.5993 - tan_mae: 648.3939\n"
          ]
        },
        {
          "output_type": "execute_result",
          "data": {
            "text/plain": [
              "[1.5993149280548096, 648.3938598632812]"
            ]
          },
          "metadata": {},
          "execution_count": 24
        }
      ]
    },
    {
      "cell_type": "code",
      "source": [],
      "metadata": {
        "id": "gwEh4MQYYHMU"
      },
      "execution_count": null,
      "outputs": []
    }
  ],
  "metadata": {
    "colab": {
      "provenance": [],
      "gpuType": "T4"
    },
    "kernelspec": {
      "display_name": "Python 3",
      "name": "python3"
    },
    "language_info": {
      "name": "python"
    },
    "accelerator": "GPU"
  },
  "nbformat": 4,
  "nbformat_minor": 0
}